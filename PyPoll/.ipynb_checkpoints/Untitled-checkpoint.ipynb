{
 "cells": [
  {
   "cell_type": "code",
   "execution_count": 1,
   "id": "8ef368da",
   "metadata": {},
   "outputs": [],
   "source": [
    "import os\n",
    "import csv\n",
    "from pathlib import Path"
   ]
  },
  {
   "cell_type": "code",
   "execution_count": 2,
   "id": "09075f82",
   "metadata": {},
   "outputs": [],
   "source": [
    "totalvotes = 0\n",
    "candidates = []\n",
    "candidate_vote = []\n",
    "addcount = 0\n",
    "#csvpath = os.path.join(\"..\", \"election_data.csv\")\n",
    "csvpath = Path(r\"C:\\Users\\akans\\OneDrive\\Documents\\GitHub\\python-challege\\PyPoll\\Resources\\election_data.csv\")"
   ]
  },
  {
   "cell_type": "code",
   "execution_count": 3,
   "id": "3ee28863",
   "metadata": {
    "scrolled": true
   },
   "outputs": [
    {
     "name": "stdout",
     "output_type": "stream",
     "text": [
      "CSV Header: ['Ballot ID', 'County', 'Candidate']\n",
      "369711\n",
      "85213\n",
      "85213\n",
      "85213\n",
      "Winner: Diana DeGette\n"
     ]
    }
   ],
   "source": [
    "with open(csvpath) as csvfile:\n",
    "    csvreader = csv.reader(csvfile, delimiter = ',')\n",
    "    csv_header = next(csvreader)\n",
    "    print(f\"CSV Header: {csv_header}\")\n",
    "    for row in csvreader:\n",
    "        totalvotes +=1\n",
    "        if row[2] not in candidates:\n",
    "            candidates.append(row[2])\n",
    "            candidate_vote.append(1) # this works\n",
    "            addcount+=1 # this works\n",
    "        else: # error in this statement\n",
    "            index = candidates.index(row[2])\n",
    "            candidate_vote[index] = candidate_vote[index] + 1\n",
    "print(totalvotes)\n",
    "for candidate in candidates:\n",
    "    index = 0\n",
    "    print(candidate_vote[index])\n",
    "    #print(candidate + \": \" + str((candidate_vote[index]/totalvotes)*100) +\"% (\" + str(candidate_vote[index]) + \")\")\n",
    "    index+=1\n",
    "#print(candidates.index(\"Diana DeGette\"))\n",
    "winner_index = candidate_vote.index(max(candidate_vote))\n",
    "print(\"Winner: \" + str(candidates[winner_index]))"
   ]
  },
  {
   "cell_type": "code",
   "execution_count": null,
   "id": "94aa4b96",
   "metadata": {},
   "outputs": [],
   "source": []
  }
 ],
 "metadata": {
  "kernelspec": {
   "display_name": "Python 3 (ipykernel)",
   "language": "python",
   "name": "python3"
  },
  "language_info": {
   "codemirror_mode": {
    "name": "ipython",
    "version": 3
   },
   "file_extension": ".py",
   "mimetype": "text/x-python",
   "name": "python",
   "nbconvert_exporter": "python",
   "pygments_lexer": "ipython3",
   "version": "3.10.11"
  }
 },
 "nbformat": 4,
 "nbformat_minor": 5
}
