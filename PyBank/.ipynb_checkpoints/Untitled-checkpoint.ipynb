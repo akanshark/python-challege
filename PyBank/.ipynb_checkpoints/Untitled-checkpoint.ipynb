{
 "cells": [
  {
   "cell_type": "code",
   "execution_count": 24,
   "id": "07e51ade",
   "metadata": {},
   "outputs": [],
   "source": [
    "import os\n",
    "import csv\n",
    "from pathlib import Path"
   ]
  },
  {
   "cell_type": "code",
   "execution_count": 25,
   "id": "61ea0f05",
   "metadata": {},
   "outputs": [],
   "source": [
    "#csvpath = os.path.join(\"..\", \"Resources\", \"budget_data.csv\")\n",
    "csvpath = Path(r\"C:\\Users\\akans\\OneDrive\\Documents\\GitHub\\python-challege\\PyBank\\Resources\\budget_data.csv\")"
   ]
  },
  {
   "cell_type": "code",
   "execution_count": 26,
   "id": "d77da520",
   "metadata": {},
   "outputs": [],
   "source": [
    "monthcount = 0\n",
    "net_total = 0\n",
    "avg_change = 0\n",
    "inc = 0\n",
    "dec = 0\n",
    "incm = \"\"\n",
    "decm = \"\""
   ]
  },
  {
   "cell_type": "code",
   "execution_count": 27,
   "id": "b91649e9",
   "metadata": {},
   "outputs": [
    {
     "name": "stdout",
     "output_type": "stream",
     "text": [
      "<_csv.reader object at 0x000002537346DD80>\n",
      "CSV Header: ['Date', 'Profit/Losses']\n",
      "Total Months: 86\n",
      "Total:  22564198\n",
      "Average Change:  262374.3953488372\n",
      "Greatest Increase in Profits: Mar-13(1141840)\n",
      "Greatest Increase in Profits: Dec-10(-1194133)\n"
     ]
    }
   ],
   "source": [
    "with open(csvpath) as csvfile:\n",
    "    csvreader = csv.reader(csvfile, delimiter  = ',')\n",
    "    print(csvreader)\n",
    "    csv_header = next(csvreader)\n",
    "    print(f\"CSV Header: {csv_header}\")\n",
    "    for row in csvreader:\n",
    "        monthcount+=1\n",
    "        net_total = net_total + int(row[1])\n",
    "        if int(row[1]) > inc:\n",
    "            inc = int(row[1])\n",
    "            incm = row[0]\n",
    "        if int(row[1]) < int(dec):\n",
    "            dec = int(row[1])\n",
    "            decm = row[0]\n",
    "avg_change = net_total/monthcount\n",
    "print(\"Total Months: \" + str(monthcount))\n",
    "print(\"Total:  \" + str(net_total))\n",
    "print(\"Average Change:  \" + str(avg_change))\n",
    "print(\"Greatest Increase in Profits: \" + incm + \"(\" + str(inc) + \")\")\n",
    "print(\"Greatest Increase in Profits: \" + decm + \"(\" + str(dec) + \")\")"
   ]
  },
  {
   "cell_type": "code",
   "execution_count": null,
   "id": "fda31d98",
   "metadata": {},
   "outputs": [],
   "source": []
  }
 ],
 "metadata": {
  "kernelspec": {
   "display_name": "Python 3 (ipykernel)",
   "language": "python",
   "name": "python3"
  },
  "language_info": {
   "codemirror_mode": {
    "name": "ipython",
    "version": 3
   },
   "file_extension": ".py",
   "mimetype": "text/x-python",
   "name": "python",
   "nbconvert_exporter": "python",
   "pygments_lexer": "ipython3",
   "version": "3.10.11"
  }
 },
 "nbformat": 4,
 "nbformat_minor": 5
}
